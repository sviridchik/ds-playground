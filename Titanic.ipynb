{
 "cells": [
  {
   "cell_type": "code",
   "execution_count": null,
   "metadata": {},
   "outputs": [],
   "source": [
    "import pandas as pd\n",
    "from sklearn import tree\n",
    "from sklearn.preprocessing import scale\n",
    "\n",
    "from sklearn.ensemble import RandomForestClassifier\n",
    "from sklearn.ensemble import RandomForestClassifier\n",
    "from sklearn.model_selection import GridSearchCV\n",
    "train = pd.read_csv(\"train.csv\")\n",
    "test = pd.read_csv(\"test.csv\")\n",
    "#\n",
    "# print(train.head())\n",
    "# print(test.head())\n",
    "# print(train.isnull().sum())\n",
    "# print(train.columns)\n",
    "\n",
    "\n",
    "\n",
    "X_train = train.drop(['Survived','Cabin','Ticket','Name'],axis=1)\n",
    "X_train = pd.get_dummies(X_train)\n",
    "# TODO: separtete for men and women\n",
    "X_train = X_train.fillna({\"Age\":X_train.Age.median()})\n",
    "X_train = scale(X_train)\n",
    "# print(X_train.head())\n",
    "# X_train = train.drop([['Survived',\"Cabin\",\"Ticket\",\"PassengerId\"]],axis=1)\n",
    "y_train = train.Survived\n",
    "X_test = test.drop(['Cabin','Ticket','Name'],axis=1)\n",
    "X_test= pd.get_dummies(X_test)\n",
    "X_test = X_test.fillna({\"Age\":X_test.Age.median(),\"Fare\":X_test.Fare.median()})\n",
    "# print(X_train.isnull().sum())\n",
    "# print(X_test.isnull().sum())\n",
    "# y_test = test.Survived\n",
    "# print(X_test.Fare)\n",
    "#\n",
    "\n",
    "parametrs = {'n_estimators':      range(10, 50, 10),\n",
    "             'max_depth':         range(1, 12, 2),\n",
    "             'min_samples_leaf':  range(1, 7),\n",
    "             'min_samples_split': range(2, 9, 2)}\n",
    "fr = RandomForestClassifier(criterion=\"entropy\", max_depth=4,random_state=0)\n",
    "\n",
    "seasrch = GridSearchCV(fr,parametrs, cv=5)\n",
    "seasrch.fit(X_train,y_train)\n",
    "best = seasrch.best_estimator_\n",
    "predictions = best.predict(X_test)\n",
    "# best.score(X_test)\n",
    "output = pd.DataFrame({'PassengerId': X_test.PassengerId, 'Survived': predictions})\n",
    "output.to_csv('submission.csv', index=False)\n",
    "print(\"Your submission was successfully saved!\")"
   ]
  }
 ],
 "metadata": {
  "kernelspec": {
   "display_name": "Python 3",
   "language": "python",
   "name": "python3"
  },
  "language_info": {
   "codemirror_mode": {
    "name": "ipython",
    "version": 3
   },
   "file_extension": ".py",
   "mimetype": "text/x-python",
   "name": "python",
   "nbconvert_exporter": "python",
   "pygments_lexer": "ipython3",
   "version": "3.8.10"
  }
 },
 "nbformat": 4,
 "nbformat_minor": 4
}
