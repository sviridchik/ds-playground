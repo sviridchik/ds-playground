{
 "cells": [
  {
   "cell_type": "code",
   "execution_count": null,
   "metadata": {},
   "outputs": [],
   "source": [
    "import pandas as pd\n",
    "import numpy as np\n",
    "import matplotlib.pyplot as plt\n",
    "import seaborn as sns\n",
    "from sklearn import tree\n",
    "np.random.seed(0)\n",
    "from sklearn.model_selection import train_test_split\n",
    "# iris_train  = pd.read_csv(\"train_iris.csv\")\n",
    "# iris_test = pd.read_csv(\"test_iris.csv\")\n",
    "\n",
    "iris_train = pd.read_csv(\"train_iris.csv\")\n",
    "iris_test = pd.read_csv(\"test_iris.csv\")\n",
    "\n",
    "print(iris_train.head(10))\n",
    "X_train = iris_train.drop(['species','Unnamed: 0'], axis=1)\n",
    "y_train = iris_train.species\n",
    "X_test= iris_test.drop(['species','Unnamed: 0'], axis=1)\n",
    "y_test = iris_test.species\n",
    "# print(iris_train.isnull().sum())\n",
    "scores = pd.DataFrame()\n",
    "for i in range(1,100):\n",
    "    cross_val_score = tree.DecisionTreeClassifier(criterion='entropy',max_depth=i)\n",
    "    cross_val_score.fit(X_train,y_train)\n",
    "    train_score=cross_val_score.score(X_train,y_train)\n",
    "    test_score = cross_val_score.score(X_test,y_test)\n",
    "    data = pd.DataFrame({\"debth\":[i],'train':train_score,'test':test_score})\n",
    "    scores = scores.append(data)\n",
    "process_scores = pd.melt(scores,id_vars=\"debth\",value_vars=['train', 'test'], var_name='set_type', value_name='score')\n",
    "sns.lineplot(data=process_scores,x = 'debth', y = 'score', hue = 'set_type')\n",
    "plt.show()\n",
    "print(scores)\n"
   ]
  }
 ],
 "metadata": {
  "kernelspec": {
   "display_name": "Python 3",
   "language": "python",
   "name": "python3"
  },
  "language_info": {
   "codemirror_mode": {
    "name": "ipython",
    "version": 3
   },
   "file_extension": ".py",
   "mimetype": "text/x-python",
   "name": "python",
   "nbconvert_exporter": "python",
   "pygments_lexer": "ipython3",
   "version": "3.8.10"
  }
 },
 "nbformat": 4,
 "nbformat_minor": 4
}
