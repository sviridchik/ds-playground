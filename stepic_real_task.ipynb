{
 "cells": [
  {
   "cell_type": "code",
   "execution_count": null,
   "metadata": {},
   "outputs": [],
   "source": [
    "import pandas as pd\n",
    "import numpy as np\n",
    "import matplotlib.pyplot as plt\n",
    "import seaborn as sns\n",
    "\n",
    "events_data = pd.read_csv(\"event_data_train.csv\")\n",
    "# print(events_data.head(5))\n",
    "# print(events_data.action.unique())\n",
    "events_data[\"date\"] = pd.to_datetime(events_data.timestamp,unit = 's')\n",
    "# print(events_data.head(5))\n",
    "# print(events_data.date.min())\n",
    "events_data[\"day\"] = events_data.date.dt.date\n",
    "# print(events_data.head(5))\n",
    "# print(events_data.groupby(\"day\").user_id.nunique().head())\n",
    "# plt.plot(events_data.groupby(\"day\").user_id.nunique())\n",
    "# plt.show()\n",
    "# s = events_data[events_data.action == \"passed\"].groupby(\"user_id\",as_index=False).agg({\"step_id\":\"count\"}).rename(columns={\"step_id\":\"number_passed_steps\"})\n",
    "s = events_data.pivot_table(index=\"user_id\",columns='action',values='step_id',aggfunc='count',fill_value=0).reset_index()\n",
    "# print(s.head(5))\n",
    "\n",
    "submission_data = pd.read_csv(\"submissions_data_train.csv\")\n",
    "# print(events_data.action.unique())\n",
    "submission_data[\"date\"] = pd.to_datetime(submission_data.timestamp,unit = 's')\n",
    "# print(events_data.head(5))\n",
    "# print(events_data.date.min())\n",
    "submission_data[\"day\"] = submission_data.date.dt.date\n",
    "\n",
    "ss = submission_data.pivot_table(index=\"user_id\",columns='submission_status',values='step_id',aggfunc='count',fill_value=0).reset_index()\n",
    "ss[\"itogo\"] = ss[\"correct\"]+ss[\"wrong\"]\n",
    "# print(ss.sort_values(by=[\"itogo\"]).tail(5))\n",
    "# ss.discovered.hist()\n",
    "# plt.show()\n",
    "# holidays\n",
    "gap_data = events_data[[\"user_id\",\"day\",\"timestamp\"]].drop_duplicates(subset=['user_id','day']).groupby('user_id')['timestamp'].apply(list).apply(np.diff).values\n",
    "data = pd.Series(np.concatenate(gap_data,axis=0))/(24*60*60)\n",
    "\n",
    "# print(data[data<30])\n",
    "# print(events_data.sort_values(by=\"timestamp\").head(10))\n",
    "e = events_data.groupby(\"user_id\",as_index=False).agg({\"timestamp\":\"max\"}).head(5)\n",
    "print(e)\n"
   ]
  }
 ],
 "metadata": {
  "kernelspec": {
   "display_name": "Python 3",
   "language": "python",
   "name": "python3"
  },
  "language_info": {
   "codemirror_mode": {
    "name": "ipython",
    "version": 3
   },
   "file_extension": ".py",
   "mimetype": "text/x-python",
   "name": "python",
   "nbconvert_exporter": "python",
   "pygments_lexer": "ipython3",
   "version": "3.8.10"
  }
 },
 "nbformat": 4,
 "nbformat_minor": 4
}
