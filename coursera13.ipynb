{
 "cells": [
  {
   "cell_type": "code",
   "execution_count": null,
   "metadata": {},
   "outputs": [],
   "source": [
    "import pandas\n",
    "import math\n",
    "from sklearn.model_selection import train_test_split\n",
    "from sklearn.metrics import log_loss\n",
    "from sklearn.ensemble import GradientBoostingClassifier\n",
    "from sklearn.ensemble import RandomForestClassifier\n",
    "\n",
    "import matplotlib.pyplot as plt\n",
    "\n",
    "data = pandas.read_csv('_75fb7a1b6f3431b6217cdbcba2fd30b9_gbm-data.csv')\n",
    "X = data.loc[:, 'D1':'D1776']\n",
    "y = data['Activity']\n",
    "X_train, X_test, y_train, y_test = train_test_split(X, y, test_size=0.8, random_state=241)\n",
    "learning_rate = [1, 0.5, 0.3, 0.2, 0.1]\n",
    "for i in learning_rate:\n",
    "    model = GradientBoostingClassifier(learning_rate=i, n_estimators=250, verbose=True, random_state=241)\n",
    "    model.fit(X_train, y_train)\n",
    "    scores_train = []\n",
    "    for x in model.staged_decision_function(X_train):\n",
    "        scores_train.append(log_loss(y_train, [1.0 / (1.0 + math.exp(-i)) for i in x]))\n",
    "    scores_test = []\n",
    "    for x in model.staged_decision_function(X_test):\n",
    "        scores_test.append(log_loss(y_test, [1.0 / (1.0 + math.exp(-i)) for i in x]))\n",
    "\n",
    "    plt.figure()\n",
    "    plt.plot(scores_test, 'r', linewidth=2)\n",
    "    plt.plot(scores_train, 'g', linewidth=2)\n",
    "    plt.legend(['test', 'train'])\n",
    "    plt.show()\n",
    "print(scores_test)\n",
    "print(scores_train)\n"
   ]
  }
 ],
 "metadata": {
  "kernelspec": {
   "display_name": "Python 3",
   "language": "python",
   "name": "python3"
  },
  "language_info": {
   "codemirror_mode": {
    "name": "ipython",
    "version": 3
   },
   "file_extension": ".py",
   "mimetype": "text/x-python",
   "name": "python",
   "nbconvert_exporter": "python",
   "pygments_lexer": "ipython3",
   "version": "3.8.10"
  }
 },
 "nbformat": 4,
 "nbformat_minor": 4
}
