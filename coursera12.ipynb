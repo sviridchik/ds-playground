{
 "cells": [
  {
   "cell_type": "code",
   "execution_count": null,
   "metadata": {},
   "outputs": [],
   "source": [
    "import pandas\n",
    "from sklearn.ensemble import RandomForestRegressor\n",
    "from sklearn.model_selection import KFold, cross_val_score\n",
    "data = pandas.read_csv('_8d955d45315ff739d75fd4de3c97acf9_abalone.csv')\n",
    "data['Sex'] = data['Sex'].map(lambda x: 1 if x == 'M' else (-1 if x == 'F' else 0))\n",
    "\n",
    "\n",
    "X = data.loc[:, 'Sex':'ShellWeight']\n",
    "y = data['Rings']\n",
    "scores=[]\n",
    "cv = KFold(n_splits=5, shuffle=True)\n",
    "for i in range(1,51):\n",
    "    model = RandomForestRegressor(n_estimators=i, random_state=1)\n",
    "    model.fit(X, y)\n",
    "    scores.append(cross_val_score(model,X, y, cv=cv, scoring='r2'))\n",
    "r = pandas.DataFrame(scores).mean(1).map(lambda x: x if round(x,3) > 0.52 else None).sort_values().head(1)\n",
    "print(r)\n",
    "print(scores)"
   ]
  }
 ],
 "metadata": {
  "kernelspec": {
   "display_name": "Python 3",
   "language": "python",
   "name": "python3"
  },
  "language_info": {
   "codemirror_mode": {
    "name": "ipython",
    "version": 3
   },
   "file_extension": ".py",
   "mimetype": "text/x-python",
   "name": "python",
   "nbconvert_exporter": "python",
   "pygments_lexer": "ipython3",
   "version": "3.8.10"
  }
 },
 "nbformat": 4,
 "nbformat_minor": 4
}
