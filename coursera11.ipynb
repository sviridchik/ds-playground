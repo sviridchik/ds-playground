{
 "cells": [
  {
   "cell_type": "code",
   "execution_count": null,
   "metadata": {},
   "outputs": [],
   "source": [
    "import pandas\n",
    "from sklearn.decomposition import PCA\n",
    "from numpy import corrcoef\n",
    "\n",
    "data = pandas.read_csv('_82b4a9f66c689b3d40dd25ebd761b07f_close_prices.csv')\n",
    "X_train = data.loc[:,'AXP':]\n",
    "\n",
    "\n",
    "pca = PCA(n_components=10)\n",
    "pca.fit(X_train)\n",
    "\n",
    "\n",
    "sum_ = 0\n",
    "n = 0\n",
    "for x in pca.explained_variance_ratio_:\n",
    "    if sum_ < 0.9:\n",
    "        sum_ += x\n",
    "        n += 1\n",
    "    else:\n",
    "        break\n",
    "print(n)\n",
    "data_pca = pandas.DataFrame(pca.transform(X_train))\n",
    "\n",
    "data = pandas.read_csv('_82b4a9f66c689b3d40dd25ebd761b07f_djia_index.csv')['^DJI']\n",
    "cor = corrcoef(data_pca[0], data)\n",
    "print(cor)\n",
    "print(X_train.columns[pandas.Series(pca.components_[0]).sort_values(ascending=False).head().index[0]])\n"
   ]
  }
 ],
 "metadata": {
  "kernelspec": {
   "display_name": "Python 3",
   "language": "python",
   "name": "python3"
  },
  "language_info": {
   "codemirror_mode": {
    "name": "ipython",
    "version": 3
   },
   "file_extension": ".py",
   "mimetype": "text/x-python",
   "name": "python",
   "nbconvert_exporter": "python",
   "pygments_lexer": "ipython3",
   "version": "3.8.10"
  }
 },
 "nbformat": 4,
 "nbformat_minor": 4
}
