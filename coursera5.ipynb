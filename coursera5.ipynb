{
 "cells": [
  {
   "cell_type": "code",
   "execution_count": null,
   "metadata": {},
   "outputs": [],
   "source": [
    "import pandas as pd\n",
    "import numpy as np\n",
    "from sklearn.linear_model import Perceptron\n",
    "from sklearn.metrics import accuracy_score\n",
    "from sklearn.metrics import classification_report\n",
    "from sklearn.preprocessing import StandardScaler\n",
    "test = pd.read_csv(\"_3abd237d917280ba0d83bfe6bd49776f_perceptron-test.csv\", header=None)\n",
    "train = pd.read_csv(\"_3abd237d917280ba0d83bfe6bd49776f_perceptron-train.csv\", header=None)\n",
    "clf = Perceptron()\n",
    "print(train.columns, train.head())\n",
    "print(test.columns, test.head())\n",
    "X_train = train.loc[:,1:]\n",
    "y_train = train.loc[:,0]\n",
    "\n",
    "X_test = test.loc[:,1:]\n",
    "y_test = test.loc[:,0]\n",
    "clf.fit(X_train, y_train)\n",
    "print(accuracy_score(y_test, clf.predict(X_test)))\n",
    "res1 = accuracy_score(y_test, clf.predict(X_test))\n",
    "scaler = StandardScaler()\n",
    "model = Perceptron()\n",
    "\n",
    "X_train_scaled = scaler.fit_transform(X_train)\n",
    "X_test_scaled = scaler.transform(X_test)\n",
    "model.fit(X_train_scaled, y_train)\n",
    "res2 = accuracy_score(y_test, model.predict(X_test_scaled))\n",
    "print(res2)\n",
    "\n",
    "\n",
    "print(\"here\",abs(res2-res1))\n",
    "print(\n",
    "\n",
    "accuracy_score(y_test,model.predict(X_test_scaled)) - accuracy_score(y_test,clf.predict(X_test))\n",
    "\n",
    ")\n"
   ]
  }
 ],
 "metadata": {
  "kernelspec": {
   "display_name": "Python 3",
   "language": "python",
   "name": "python3"
  },
  "language_info": {
   "codemirror_mode": {
    "name": "ipython",
    "version": 3
   },
   "file_extension": ".py",
   "mimetype": "text/x-python",
   "name": "python",
   "nbconvert_exporter": "python",
   "pygments_lexer": "ipython3",
   "version": "3.8.10"
  }
 },
 "nbformat": 4,
 "nbformat_minor": 4
}
