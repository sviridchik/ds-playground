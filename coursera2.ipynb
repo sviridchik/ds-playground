{
 "cells": [
  {
   "cell_type": "code",
   "execution_count": null,
   "metadata": {},
   "outputs": [],
   "source": [
    "import pandas as pd\n",
    "from matplotlib import pyplot as plt\n",
    "from sklearn import tree\n",
    "from sklearn.ensemble import RandomForestClassifier\n",
    "from sklearn.ensemble import RandomForestClassifier\n",
    "from sklearn.model_selection import GridSearchCV\n",
    "import numpy as np\n",
    "from sklearn.tree import DecisionTreeClassifier\n",
    "# X = np.array([[1, 2], [3, 4], [5, 6]])\n",
    "# y = np.array([0, 1, 0])\n",
    "\n",
    "train = pd.read_csv(\"_ea07570741a3ec966e284208f588e50e_titanic.csv\")\n",
    "\n",
    "print(train.columns)\n",
    "data = train.drop(['PassengerId','Name','SibSp','Parch','Ticket','Cabin','Embarked'], axis=1)\n",
    "data = data.dropna(subset = \"Age\")\n",
    "\n",
    "y = data[\"Survived\"]\n",
    "data = data.drop(['Survived'], axis=1)\n",
    "\n",
    "# print()\n",
    "print(\"here\",data.columns)\n",
    "# print()\n",
    "# y  = y.dropna()\n",
    "data = pd.get_dummies(data)\n",
    "\n",
    "# pd.get_dummies(y)\n",
    "print(data.isna().sum())\n",
    "print(y.isna().sum())\n",
    "clf = DecisionTreeClassifier(random_state=241)\n",
    "print(data.columns)\n",
    "clf.fit(data, y)\n",
    "importances = clf.feature_importances_\n",
    "print(importances)\n",
    "indices = np.argsort(importances)\n",
    "\n",
    "fig, ax = plt.subplots()\n",
    "ax.barh(range(len(importances)), importances[indices])\n",
    "ax.set_yticks(range(len(importances)))\n",
    "_ = ax.set_yticklabels(np.array(data.columns)[indices])\n",
    "plt.show()\n",
    "\n",
    "\n",
    "print(pd.Series(clf.feature_importances_))\n",
    "# print(importances[\"indexes\"])\n",
    "ams = list(zip(data.columns, clf.feature_importances_))\n",
    "ams = sorted(ams, key=lambda x: x[-1] )\n",
    "print(ams)\n"
   ]
  }
 ],
 "metadata": {
  "kernelspec": {
   "display_name": "Python 3",
   "language": "python",
   "name": "python3"
  },
  "language_info": {
   "codemirror_mode": {
    "name": "ipython",
    "version": 3
   },
   "file_extension": ".py",
   "mimetype": "text/x-python",
   "name": "python",
   "nbconvert_exporter": "python",
   "pygments_lexer": "ipython3",
   "version": "3.8.10"
  }
 },
 "nbformat": 4,
 "nbformat_minor": 4
}
