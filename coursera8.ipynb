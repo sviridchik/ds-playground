{
 "cells": [
  {
   "cell_type": "code",
   "execution_count": null,
   "metadata": {},
   "outputs": [],
   "source": [
    "import pandas as pd\n",
    "import numpy as np\n",
    "import math\n",
    "from sklearn.metrics import roc_auc_score\n",
    "\n",
    "data = pd.read_csv(\"_f048004989fa1185c1d03f0eb2a8ad0c_data-logistic.csv\", header=None)\n",
    "\n",
    "X = data.loc[:,1:]\n",
    "y = data.loc[:,0]\n",
    "# X1 = data[[1,2]]\n",
    "# y1 = data[0]\n",
    "print(X.head(), X[1].head(), X[2].head())\n",
    "def fw1(w1, w2, y, X, k, C):\n",
    "    l = len(y)\n",
    "    S = 0\n",
    "    for i in range(0, l):\n",
    "        S += y[i] * X[1][i] * (1.0 - 1.0 / (1.0 + math.exp(-y[i] * (w1 * X[1][i] + w2 * X[2][i]))))\n",
    "\n",
    "    return w1 + (k * (1.0 / l) * S) - k * C * w1\n",
    "\n",
    "def fw2(w1,w2,y,X,k,C):\n",
    "    S=0\n",
    "    for i in range(len(y)):\n",
    "        S+=y[i]*X[2][i]*(1-(1/(1+math.exp(-y[i]*(w1*X[1][i]+w2*X[2][i])))))\n",
    "    return w2+(k*(1.0/len(y))*S - k*C*w2)\n",
    "def a(X, w1, w2):\n",
    "    return 1.0 / (1.0 + math.exp(-w1 * X[1] - w2 * X[2]))\n",
    "def grad(y, X, C=0.0, w1=0.0, w2=0.0, k=0.1, err=1e-5):\n",
    "    i = 0\n",
    "    i_max = 10000\n",
    "    w1_new, w2_new = w1, w2\n",
    "\n",
    "    while True:\n",
    "        i += 1\n",
    "        w1_new, w2_new = fw1(w1, w2, y, X, k, C), fw2(w1, w2, y, X, k, C)\n",
    "        e = math.sqrt((w1_new - w1) ** 2 + (w2_new - w2) ** 2)\n",
    "\n",
    "        if i >= i_max or e <= err:\n",
    "            break\n",
    "        else:\n",
    "            w1, w2 = w1_new, w2_new\n",
    "    return [w1_new, w2_new]\n",
    "\n",
    "w1, w2 = grad(y, X)\n",
    "rw1, rw2 = grad(y, X, 10.0)\n",
    "print(w1,w2,rw1, rw2)\n",
    "\n",
    "y_score = X.apply(lambda x: a(x, w1,w2), axis = 1)\n",
    "y_r_score = X.apply(lambda x: a(x, rw1,rw2), axis = 1)\n",
    "# print(y_score, y_r_score)\n",
    "\n",
    "auc = roc_auc_score(y, y_score)\n",
    "rauc = roc_auc_score(y, y_r_score)\n",
    "\n",
    "print(auc,rauc)\n"
   ]
  }
 ],
 "metadata": {
  "kernelspec": {
   "display_name": "Python 3",
   "language": "python",
   "name": "python3"
  },
  "language_info": {
   "codemirror_mode": {
    "name": "ipython",
    "version": 3
   },
   "file_extension": ".py",
   "mimetype": "text/x-python",
   "name": "python",
   "nbconvert_exporter": "python",
   "pygments_lexer": "ipython3",
   "version": "3.8.10"
  }
 },
 "nbformat": 4,
 "nbformat_minor": 4
}
