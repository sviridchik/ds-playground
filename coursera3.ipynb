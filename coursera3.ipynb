{
 "cells": [
  {
   "cell_type": "code",
   "execution_count": null,
   "metadata": {},
   "outputs": [],
   "source": [
    "import pandas\n",
    "from numpy import linspace\n",
    "from sklearn.neighbors import KNeighborsRegressor\n",
    "from sklearn.model_selection import cross_val_score\n",
    "from sklearn.model_selection import KFold\n",
    "from sklearn import datasets\n",
    "from sklearn.preprocessing import scale\n",
    "\n",
    "\n",
    "data = datasets.load_boston()\n",
    "print(data.keys())\n",
    "X= data.data\n",
    "X = scale(X)\n",
    "y = data.target\n",
    "print(data.feature_names)\n",
    "res = []\n",
    "kf = KFold(n_splits=5, shuffle=True,random_state=42)\n",
    "for p in linspace(1,10,200):\n",
    "    model = KNeighborsRegressor(n_neighbors=5, weights=\"distance\", p=p)\n",
    "    res.append(cross_val_score(model,X,y,cv=kf,scoring = 'neg_mean_squared_error'))\n",
    "print(pandas.DataFrame(res,linspace(1, 10, 200)))\n",
    "print(pandas.DataFrame(res,linspace(1, 10, 200)).max(axis = 1).sort_values(ascending = False).head(1))\n"
   ]
  }
 ],
 "metadata": {
  "kernelspec": {
   "display_name": "Python 3",
   "language": "python",
   "name": "python3"
  },
  "language_info": {
   "codemirror_mode": {
    "name": "ipython",
    "version": 3
   },
   "file_extension": ".py",
   "mimetype": "text/x-python",
   "name": "python",
   "nbconvert_exporter": "python",
   "pygments_lexer": "ipython3",
   "version": "3.8.10"
  }
 },
 "nbformat": 4,
 "nbformat_minor": 4
}
